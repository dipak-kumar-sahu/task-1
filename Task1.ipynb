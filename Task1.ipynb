{
 "cells": [
  {
   "cell_type": "code",
   "execution_count": 4,
   "id": "33c38433-5513-40fd-bc4b-c1ca8ca41f7a",
   "metadata": {},
   "outputs": [
    {
     "name": "stdout",
     "output_type": "stream",
     "text": [
      "updated list is  [10, 29, 40, 50, 60, 65]\n"
     ]
    }
   ],
   "source": [
    "#LIST\n",
    "list=[10,20,30,40,50,60]\n",
    "\n",
    "#ADDING AN ELEMENT\n",
    "list.append(65)\n",
    "\n",
    "#REMOVING AN ELEMENT\n",
    "list.remove(30)\n",
    "\n",
    "#MODIFYING AN ELEMENT\n",
    "list[1]=29\n",
    "\n",
    "print(\"updated list is \",list)"
   ]
  },
  {
   "cell_type": "code",
   "execution_count": 17,
   "id": "0b4cc856-3aa4-4271-b99f-8c9f1cfdcd6c",
   "metadata": {},
   "outputs": [
    {
     "name": "stdout",
     "output_type": "stream",
     "text": [
      "updated dictionary is : {'India ': 'New Delhi', 'Japan ': 'Tokyo', 'Russia ': 'Moscow', 'Argentina': 'Buenos Aires'}\n"
     ]
    }
   ],
   "source": [
    "#DICTIONARY\n",
    "dict={'India ':'Delhi','Nepal ':'Kathmandu','Japan ':'Tokyo','Russia ':'Moscow'}\n",
    "\n",
    "#ADDING\n",
    "dict['Argentina']='Buenos Aires'\n",
    "\n",
    "#REMOVING\n",
    "del dict['Nepal ']\n",
    "\n",
    "#MODIFYING\n",
    "dict['India ']='New Delhi'\n",
    "\n",
    "print(\"updated dictionary is :\",dict)"
   ]
  },
  {
   "cell_type": "code",
   "execution_count": 25,
   "id": "dfd50299-9307-4c4a-a8dd-f85a9c616267",
   "metadata": {},
   "outputs": [
    {
     "name": "stdout",
     "output_type": "stream",
     "text": [
      "updated set is : {34, 3, 5, 8, 13, 21, 55}\n"
     ]
    }
   ],
   "source": [
    "#SET\n",
    "set= {1,2,3,5,8,13,21}\n",
    "\n",
    "#ADDIN\n",
    "set.add(34)\n",
    "\n",
    "#REMOVING\n",
    "set.remove(2)\n",
    "\n",
    "#MODIFYING\n",
    "set.discard(1)\n",
    "set.add(55)\n",
    "\n",
    "print(\"updated set is :\",set)"
   ]
  },
  {
   "cell_type": "code",
   "execution_count": null,
   "id": "c8652792-2c8b-49b7-b4bb-fa38991236cb",
   "metadata": {},
   "outputs": [],
   "source": []
  }
 ],
 "metadata": {
  "kernelspec": {
   "display_name": "Python 3 (ipykernel)",
   "language": "python",
   "name": "python3"
  },
  "language_info": {
   "codemirror_mode": {
    "name": "ipython",
    "version": 3
   },
   "file_extension": ".py",
   "mimetype": "text/x-python",
   "name": "python",
   "nbconvert_exporter": "python",
   "pygments_lexer": "ipython3",
   "version": "3.12.3"
  }
 },
 "nbformat": 4,
 "nbformat_minor": 5
}
